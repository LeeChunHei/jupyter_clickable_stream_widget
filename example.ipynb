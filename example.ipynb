{
 "cells": [
  {
   "cell_type": "code",
   "execution_count": 1,
   "id": "865206ff",
   "metadata": {},
   "outputs": [
    {
     "name": "stdout",
     "output_type": "stream",
     "text": [
      "[sudo] password for jetson: \n",
      "crw-rw----+ 1 root video 81, 0 Jan 28  2018 /dev/video0\n",
      "camera created\n"
     ]
    }
   ],
   "source": [
    "# Full reset of the camera\n",
    "!echo 'jetson' | sudo -S systemctl restart nvargus-daemon && printf '\\n'\n",
    "# Check device number\n",
    "!ls -ltrh /dev/video*\n",
    "\n",
    "# USB Camera (Logitech C270 webcam)\n",
    "#from jetcam.usb_camera import USBCamera\n",
    "#camera = USBCamera(width=224, height=224, capture_device=0) # confirm the capture_device number\n",
    "\n",
    "# CSI Camera (Raspberry Pi Camera Module V2)\n",
    "from jetcam.csi_camera import CSICamera\n",
    "camera = CSICamera(width=224, height=224)\n",
    "\n",
    "camera.running = False\n",
    "print(\"camera created\")"
   ]
  },
  {
   "cell_type": "code",
   "execution_count": 2,
   "id": "7c94092c",
   "metadata": {},
   "outputs": [],
   "source": [
    "from clickable_stream_widget.widget import ClickableImageWidget\n",
    "from IPython.display import display\n",
    "from jetcam.utils import bgr8_to_jpeg\n",
    "import cv2\n",
    "import ipywidgets"
   ]
  },
  {
   "cell_type": "code",
   "execution_count": 8,
   "id": "ebcef362",
   "metadata": {},
   "outputs": [
    {
     "name": "stdout",
     "output_type": "stream",
     "text": [
      "Port is already in use\n",
      "Port is already in use\n",
      "Port is already in use\n",
      "Port is already in use\n"
     ]
    },
    {
     "data": {
      "application/vnd.jupyter.widget-view+json": {
       "model_id": "a67e6d3d28bf4030b24f75bacda4afbc",
       "version_major": 2,
       "version_minor": 0
      },
      "text/plain": [
       "HBox(children=(ClickableImageWidget(value='<video class=\"stream_widget_69a50112b1ae4998a7b365138b92a49f\" autop…"
      ]
     },
     "metadata": {},
     "output_type": "display_data"
    },
    {
     "data": {
      "application/javascript": "new Promise(function(resolve, reject) {\n\tvar script = document.createElement(\"script\");\n\tscript.onload = resolve;\n\tscript.onerror = reject;\n\tscript.src = \"https://webrtc.github.io/adapter/adapter-latest.js\";\n\tdocument.head.appendChild(script);\n}).then(() => {\n\n                if (typeof html5VideoElement69a50112b1ae4998a7b365138b92a49f === \"undefined\") {\n                    var html5VideoElement69a50112b1ae4998a7b365138b92a49f = null;\n                    var websocketConnection69a50112b1ae4998a7b365138b92a49f = null;\n                    var webrtcPeerConnection69a50112b1ae4998a7b365138b92a49f = null;\n                    var webrtcConfiguration69a50112b1ae4998a7b365138b92a49f = null;\n                    var reportError69a50112b1ae4998a7b365138b92a49f = null;\n                    var remoteStream69a50112b1ae4998a7b365138b92a49f = null;\n                }\n\n                function onLocalDescription69a50112b1ae4998a7b365138b92a49f(desc) {\n                    console.log(\"Local description: \" + JSON.stringify(desc));\n                    webrtcPeerConnection69a50112b1ae4998a7b365138b92a49f.setLocalDescription(desc).then(function() {\n                        websocketConnection69a50112b1ae4998a7b365138b92a49f.send(JSON.stringify({ type: \"sdp\", \"data\": webrtcPeerConnection69a50112b1ae4998a7b365138b92a49f.localDescription }));\n                    }).catch(reportError69a50112b1ae4998a7b365138b92a49f);\n                }\n\n                function onIncomingSDP69a50112b1ae4998a7b365138b92a49f(sdp) {\n                    console.log(\"Incoming SDP: \" + JSON.stringify(sdp));\n                    webrtcPeerConnection69a50112b1ae4998a7b365138b92a49f.setRemoteDescription(sdp).catch(reportError69a50112b1ae4998a7b365138b92a49f);\n                    webrtcPeerConnection69a50112b1ae4998a7b365138b92a49f.createAnswer().then(onLocalDescription69a50112b1ae4998a7b365138b92a49f).catch(reportError69a50112b1ae4998a7b365138b92a49f);\n                }\n\n                function onIncomingICE69a50112b1ae4998a7b365138b92a49f(ice) {\n                    let candidate = new RTCIceCandidate(ice);\n                    console.log(\"Incoming ICE: \" + JSON.stringify(ice));\n                    webrtcPeerConnection69a50112b1ae4998a7b365138b92a49f.addIceCandidate(candidate).catch(reportError69a50112b1ae4998a7b365138b92a49f);\n                }\n\n                function onAddRemoteStream69a50112b1ae4998a7b365138b92a49f(event) {\n                    console.log(\"onAddRemoteStream\", event);\n                    remoteStream69a50112b1ae4998a7b365138b92a49f = event.streams[0];\n                    for (let i = 0; i < html5VideoElement69a50112b1ae4998a7b365138b92a49f.length; ++i) {\n                        html5VideoElement69a50112b1ae4998a7b365138b92a49f[i].srcObject = remoteStream69a50112b1ae4998a7b365138b92a49f;\n                    }\n                }\n\n                function onIceCandidate69a50112b1ae4998a7b365138b92a49f(event) {\n                    if (event.candidate == null){\n                        console.log(\"ICE candidate null\");\n                        return;\n                    }\n\n                    console.log(\"Sending ICE candidate out: \" + JSON.stringify(event.candidate));\n                    websocketConnection69a50112b1ae4998a7b365138b92a49f.send(JSON.stringify({ \"type\": \"ice\", \"data\": event.candidate }));\n                }\n\n\n                function onClose69a50112b1ae4998a7b365138b92a49f() {\n                    websocketConnection69a50112b1ae4998a7b365138b92a49f.close();\n                    console.log(websocketConnection69a50112b1ae4998a7b365138b92a49f.readyState)\n                    websocketConnection69a50112b1ae4998a7b365138b92a49f = null;\n                    webrtcPeerConnection69a50112b1ae4998a7b365138b92a49f.close();\n                    webrtcPeerConnection69a50112b1ae4998a7b365138b92a49f = null;\n                    console.log(\"requested to close the stream\");\n                }\n\n                function onServerMessage69a50112b1ae4998a7b365138b92a49f(event) {\n                    let msg;\n\n                    try {\n                        msg = JSON.parse(event.data);\n                    } catch (e) {\n                        return;\n                    }\n\n                    if (!webrtcPeerConnection69a50112b1ae4998a7b365138b92a49f) {\n                        webrtcPeerConnection69a50112b1ae4998a7b365138b92a49f = new RTCPeerConnection(webrtcConfiguration69a50112b1ae4998a7b365138b92a49f);\n                        webrtcPeerConnection69a50112b1ae4998a7b365138b92a49f.ontrack = onAddRemoteStream69a50112b1ae4998a7b365138b92a49f;\n                        webrtcPeerConnection69a50112b1ae4998a7b365138b92a49f.onicecandidate = onIceCandidate69a50112b1ae4998a7b365138b92a49f;\n                        webrtcPeerConnection69a50112b1ae4998a7b365138b92a49f.addEventListener('connectionstatechange', event => {\n                            console.log(\"webrtc state\", webrtcPeerConnection69a50112b1ae4998a7b365138b92a49f.connectionState);\n                        });\n                        webrtcPeerConnection69a50112b1ae4998a7b365138b92a49f.oniceconnectionstatechange = (event) => {\n                            console.log(\"ice state\", webrtcPeerConnection69a50112b1ae4998a7b365138b92a49f.iceConnectionState);\n                        };\n                        webrtcPeerConnection69a50112b1ae4998a7b365138b92a49f.onicecandidateerror = (event) => {console.log(event)};\n                    }\n\n                    switch (msg.type) {\n                        case \"sdp\": onIncomingSDP69a50112b1ae4998a7b365138b92a49f(msg.data); break;\n                        case \"ice\": onIncomingICE69a50112b1ae4998a7b365138b92a49f(msg.data); break;\n                        case \"close\": onClose69a50112b1ae4998a7b365138b92a49f(); break;\n                        default: break;\n                    }\n                }\n\n                function videoClicked69a50112b1ae4998a7b365138b92a49f(event) {\n                    if (websocketConnection69a50112b1ae4998a7b365138b92a49f !== null && websocketConnection69a50112b1ae4998a7b365138b92a49f.readyState===1) {\n                        let x = event.offsetX;\n                        let y = event.offsetY;\n                        websocketConnection69a50112b1ae4998a7b365138b92a49f.send(JSON.stringify({\n                            \"type\": \"click\",\n                            \"data\": {\n                                'event': 'click',\n                                'eventData': {\n                                    'altKey': event.altKey,\n                                    'ctrlKey': event.ctrlKey,\n                                    'shiftKey': event.shiftKey,\n                                    'offsetX': x,\n                                    'offsetY': y\n                                }\n                            }\n                        }));\n                    } else {\n                        playStream69a50112b1ae4998a7b365138b92a49f();\n                    }\n                    event.preventDefault();\n                }\n\n                function playStream69a50112b1ae4998a7b365138b92a49f() {\n                    if (websocketConnection69a50112b1ae4998a7b365138b92a49f === null) {\n                        let l = window.location;\n                        let wsUrl = \"ws://\" + l.hostname + \":1028/webrtc\";\n\n                        html5VideoElement69a50112b1ae4998a7b365138b92a49f = document.getElementsByClassName(\"stream_widget_69a50112b1ae4998a7b365138b92a49f\");\n                        for (let i = 0; i < html5VideoElement69a50112b1ae4998a7b365138b92a49f.length; ++i) {\n                            html5VideoElement69a50112b1ae4998a7b365138b92a49f[i].removeEventListener(\"mousedown\", videoClicked69a50112b1ae4998a7b365138b92a49f, false);\n                            html5VideoElement69a50112b1ae4998a7b365138b92a49f[i].addEventListener(\"mousedown\", videoClicked69a50112b1ae4998a7b365138b92a49f, false);\n                        }\n                        webrtcConfiguration69a50112b1ae4998a7b365138b92a49f = { 'iceServers': [{urls: \"stun:stun.l.google.com:19302\"}] };\n                        reportError69a50112b1ae4998a7b365138b92a49f = function (errmsg) { console.error(errmsg); };\n\n                        websocketConnection69a50112b1ae4998a7b365138b92a49f = new WebSocket(wsUrl);\n                        websocketConnection69a50112b1ae4998a7b365138b92a49f.addEventListener(\"message\", onServerMessage69a50112b1ae4998a7b365138b92a49f);\n                    } else {\n                        html5VideoElement69a50112b1ae4998a7b365138b92a49f = document.getElementsByClassName(\"stream_widget_69a50112b1ae4998a7b365138b92a49f\");\n                        for (let i = 0; i < html5VideoElement69a50112b1ae4998a7b365138b92a49f.length; ++i) {\n                            html5VideoElement69a50112b1ae4998a7b365138b92a49f[i].srcObject = remoteStream69a50112b1ae4998a7b365138b92a49f;\n                            html5VideoElement69a50112b1ae4998a7b365138b92a49f[i].removeEventListener(\"mousedown\", videoClicked69a50112b1ae4998a7b365138b92a49f, false);\n                            html5VideoElement69a50112b1ae4998a7b365138b92a49f[i].addEventListener(\"mousedown\", videoClicked69a50112b1ae4998a7b365138b92a49f, false);\n                        }\n                    }\n                }\n                playStream69a50112b1ae4998a7b365138b92a49f();\n        \n});",
      "text/plain": [
       "<IPython.core.display.Javascript object>"
      ]
     },
     "metadata": {},
     "output_type": "display_data"
    }
   ],
   "source": [
    "stream_widget = ClickableImageWidget(width=camera.width, height=camera.height)\n",
    "snapshot_widget = ipywidgets.Image(width=camera.width, height=camera.height)\n",
    "def save_snapshot(_, content, msg):\n",
    "    if content['event'] == 'click':\n",
    "        data = content['eventData']\n",
    "        x = data['offsetX']\n",
    "        y = data['offsetY']\n",
    "        \n",
    "        # display saved snapshot\n",
    "        snapshot = camera.value.copy()\n",
    "        snapshot = cv2.circle(snapshot, (x, y), 8, (0, 255, 0), 3)\n",
    "        snapshot_widget.value = bgr8_to_jpeg(snapshot)\n",
    "        \n",
    "stream_widget.on_msg(save_snapshot)\n",
    "\n",
    "\n",
    "display(ipywidgets.HBox([stream_widget,snapshot_widget]))"
   ]
  },
  {
   "cell_type": "code",
   "execution_count": 9,
   "id": "77d162cd",
   "metadata": {},
   "outputs": [],
   "source": [
    "import traitlets\n",
    "traitlets.dlink((camera, 'value'), (stream_widget, 'data'))\n",
    "camera.running = True"
   ]
  }
 ],
 "metadata": {
  "kernelspec": {
   "display_name": "Python 3",
   "language": "python",
   "name": "python3"
  },
  "language_info": {
   "codemirror_mode": {
    "name": "ipython",
    "version": 3
   },
   "file_extension": ".py",
   "mimetype": "text/x-python",
   "name": "python",
   "nbconvert_exporter": "python",
   "pygments_lexer": "ipython3",
   "version": "3.6.9"
  }
 },
 "nbformat": 4,
 "nbformat_minor": 5
}
